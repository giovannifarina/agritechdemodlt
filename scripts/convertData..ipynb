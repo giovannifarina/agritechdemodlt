{
 "cells": [
  {
   "cell_type": "code",
   "execution_count": 4,
   "metadata": {},
   "outputs": [
    {
     "name": "stdout",
     "output_type": "stream",
     "text": [
      "Unix timestamp: 1684008000\n"
     ]
    }
   ],
   "source": [
    "import datetime\n",
    "import time\n",
    "\n",
    "# Example date and time in the specified format\n",
    "date_string = \"13-May-2023 22:00:00\"\n",
    "\n",
    "# Parse the date string into a datetime object\n",
    "date_time = datetime.datetime.strptime(date_string, \"%d-%b-%Y %H:%M:%S\")\n",
    "\n",
    "# Convert datetime to Unix timestamp\n",
    "unix_timestamp = int(time.mktime(date_time.timetuple()))\n",
    "\n",
    "print(\"Unix timestamp:\", unix_timestamp)\n"
   ]
  }
 ],
 "metadata": {
  "kernelspec": {
   "display_name": "Python 3",
   "language": "python",
   "name": "python3"
  },
  "language_info": {
   "codemirror_mode": {
    "name": "ipython",
    "version": 3
   },
   "file_extension": ".py",
   "mimetype": "text/x-python",
   "name": "python",
   "nbconvert_exporter": "python",
   "pygments_lexer": "ipython3",
   "version": "3.9.6"
  }
 },
 "nbformat": 4,
 "nbformat_minor": 2
}
